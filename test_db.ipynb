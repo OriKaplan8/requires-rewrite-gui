{
 "cells": [
  {
   "cell_type": "code",
   "execution_count": 2,
   "metadata": {},
   "outputs": [],
   "source": [
    "from db import *\n",
    "json_template = retrieve_json_template_by_file_id(\"agent_conv_test\")"
   ]
  },
  {
   "cell_type": "code",
   "execution_count": 3,
   "metadata": {},
   "outputs": [],
   "source": [
    "from deepdiff import DeepDiff\n",
    "\n",
    "def format_diff(diff_details):\n",
    "    \"\"\"\n",
    "    Formats the difference details for better readability.\n",
    "    \n",
    "    :param diff_details: Details of the differences\n",
    "    :return: Formatted string\n",
    "    \"\"\"\n",
    "    formatted_output = \"\"\n",
    "    for item in diff_details:\n",
    "        print(item)\n",
    "      \n",
    " \n",
    "    return formatted_output\n",
    "\n",
    "def compare_json(json1, json2):\n",
    "    \"\"\"\n",
    "    Compare two JSON objects deeply and find differences.\n",
    "    \n",
    "    :param json1: First JSON object\n",
    "    :param json2: Second JSON object\n",
    "    :return: None\n",
    "    \"\"\"\n",
    "    differences = DeepDiff(json1, json2, ignore_order=True)\n",
    "    \n",
    "    if not differences:\n",
    "        print(\"The JSON objects are identical.\")\n",
    "    else:\n",
    "        \n",
    "        for diff_type, diff_details in differences.items():\n",
    "            print(f\"Difference Type: {diff_type}\\n\")\n",
    "            print(format_diff(diff_details))\n",
    "\n",
    "def remove_needs_clarification_from_turn_zero(json_data):\n",
    "    new_json_data = {}\n",
    "    for dialog_key, dialog_data in json_data.items():\n",
    "        new_json_data[dialog_key] = {\n",
    "            \"number_of_turns\": dialog_data['number_of_turns'],\n",
    "            \"annotator_id\": dialog_data['annotator_id'],\n",
    "            \"dialog\": {}\n",
    "        }\n",
    "        for turn_key, turn_data in dialog_data['dialog'].items():\n",
    "            if turn_key == '0':\n",
    "                new_json_data[dialog_key]['dialog'][turn_key] = {\n",
    "                    key: value for key, value in turn_data.items() if key != \"needs_clarification\"\n",
    "                }\n",
    "            else:\n",
    "                new_json_data[dialog_key]['dialog'][turn_key] = turn_data\n",
    "                \n",
    "    return new_json_data\n",
    "\n",
    "def handle_annotators():\n",
    "    annotators = [\"ori\", \"lieli\", \"AfikK\"]\n",
    "    old_files = {}\n",
    "    new_files = {}\n",
    "    for annotator in annotators:\n",
    "        \n",
    "        json_data = retrieve_annotation_by_user_and_file_id(\"agent_conv_test\", annotator)\n",
    "        \n",
    "        if json_data is None:\n",
    "            print(f\"Annotation for {annotator} not found.\")\n",
    "            continue\n",
    "        else: \n",
    "            print(f\"handled {annotator}\")\n",
    "            old_files[annotator] = json_data\n",
    "            new_files[annotator] = remove_needs_clarification_from_turn_zero(json_data)\n",
    "        \n",
    "    return old_files, new_files\n",
    "    \n",
    "def handle_template():\n",
    "    json_template = retrieve_json_template_by_file_id(\"agent_conv_test\")\n",
    "    print(f\"handled annotators\")\n",
    "    new_template = remove_needs_clarification_from_turn_zero(json_template)\n",
    "    print(f\"handled template\")\n",
    "    return json_template, new_template\n",
    "    \n",
    "def operation():\n",
    "    annotators_files = handle_annotators()\n",
    "    template_files = handle_template()\n",
    "    return annotators_files, template_files\n",
    "        "
   ]
  },
  {
   "cell_type": "code",
   "execution_count": 5,
   "metadata": {},
   "outputs": [
    {
     "name": "stdout",
     "output_type": "stream",
     "text": [
      "Document with file_id agent_conv_test updated.\n"
     ]
    }
   ],
   "source": [
    "data = load_json_from_file(\"annotation_sources\\yael\\datasets_3_6\\\\results\\\\agent_conv_test_1.json\")\n",
    "add_or_update_json_template_in_db(\"agent_conv\", \"agent_conv_test\", data, overwrite=True)"
   ]
  },
  {
   "cell_type": "code",
   "execution_count": 127,
   "metadata": {},
   "outputs": [
    {
     "name": "stdout",
     "output_type": "stream",
     "text": [
      "nah he finished\n"
     ]
    }
   ],
   "source": [
    "for index, dialog_data in enumerate(annotator[1][\"lieli\"].values()):\n",
    "    \n",
    "    if dialog_data['dialog']['1']['needs_clarification'] == None and dialog_data['dialog']['1']['requires_rewrite'] == None:\n",
    "        print(f\"Dialog {index} not done yet.\")\n",
    "print(\"nah he finished\")"
   ]
  }
 ],
 "metadata": {
  "kernelspec": {
   "display_name": "Python 3",
   "language": "python",
   "name": "python3"
  },
  "language_info": {
   "codemirror_mode": {
    "name": "ipython",
    "version": 3
   },
   "file_extension": ".py",
   "mimetype": "text/x-python",
   "name": "python",
   "nbconvert_exporter": "python",
   "pygments_lexer": "ipython3",
   "version": "3.11.1"
  }
 },
 "nbformat": 4,
 "nbformat_minor": 2
}
