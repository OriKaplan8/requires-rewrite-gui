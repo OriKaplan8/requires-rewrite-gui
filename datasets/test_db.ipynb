{
 "cells": [
  {
   "cell_type": "code",
   "execution_count": 13,
   "metadata": {},
   "outputs": [
    {
     "name": "stdout",
     "output_type": "stream",
     "text": [
      "New document inserted with id 66eaf26a9f21db8191fad6cd.\n"
     ]
    }
   ],
   "source": [
    "from db import *\n",
    "#jdata = load_json_from_file(r\"C:\\Users\\User\\Projects\\requires-rewrite-gui\\datasets\\scoringRewriteDatasets\\RawNewAsisDataset\\converted_new_asi_data.json\")\n",
    "jdata = load_json_from_file(r\"C:\\Users\\oriro\\Projects\\requires-rewrite-gui\\datasets\\scoringRewriteDatasets\\RawNewAsisDataset\\converted_new_asi_data.json\")\n",
    "\n",
    "add_or_update_json_template_in_db(project_name=\"rewrite-scoring\", file_id=\"rewrite-scoring\", json_data=jdata, overwrite=True)"
   ]
  }
 ],
 "metadata": {
  "kernelspec": {
   "display_name": "Python 3",
   "language": "python",
   "name": "python3"
  },
  "language_info": {
   "codemirror_mode": {
    "name": "ipython",
    "version": 3
   },
   "file_extension": ".py",
   "mimetype": "text/x-python",
   "name": "python",
   "nbconvert_exporter": "python",
   "pygments_lexer": "ipython3",
   "version": "3.11.1"
  }
 },
 "nbformat": 4,
 "nbformat_minor": 2
}
