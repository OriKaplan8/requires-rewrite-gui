{
 "cells": [
  {
   "cell_type": "code",
   "execution_count": 2,
   "metadata": {},
   "outputs": [
    {
     "name": "stdout",
     "output_type": "stream",
     "text": [
      "Document with file_id rewrite_scoring_test updated.\n"
     ]
    }
   ],
   "source": [
    "from db import *\n",
    "json_data = load_json_from_file(r\"C:\\Users\\oriro\\Projects\\requires-rewrite-gui\\datasets\\scoringRewriteDatasets\\RawNewAsisDataset\\converted_new_asi_data_test.json\")\n",
    "add_or_update_json_template_in_db(project_name=\"rewrite_scoring\", json_data=json_data, file_id=\"rewrite_scoring_test\", overwrite=True)"
   ]
  },
  {
   "cell_type": "code",
   "execution_count": 12,
   "metadata": {},
   "outputs": [
    {
     "data": {
      "text/plain": [
       "dict_keys(['ori', 'AfikK', 'lieli'])"
      ]
     },
     "execution_count": 12,
     "metadata": {},
     "output_type": "execute_result"
    }
   ],
   "source": [
    "from db import *\n",
    "retrieve_annotations_by_file_id(\"agent_conv_complete\").keys()"
   ]
  }
 ],
 "metadata": {
  "kernelspec": {
   "display_name": "Python 3",
   "language": "python",
   "name": "python3"
  },
  "language_info": {
   "codemirror_mode": {
    "name": "ipython",
    "version": 3
   },
   "file_extension": ".py",
   "mimetype": "text/x-python",
   "name": "python",
   "nbconvert_exporter": "python",
   "pygments_lexer": "ipython3",
   "version": "3.11.1"
  }
 },
 "nbformat": 4,
 "nbformat_minor": 2
}
