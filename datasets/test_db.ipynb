{
 "cells": [
  {
   "cell_type": "code",
   "execution_count": 1,
   "metadata": {},
   "outputs": [
    {
     "name": "stdout",
     "output_type": "stream",
     "text": [
      "New document inserted with id 66e308b79f21db819167fadd.\n"
     ]
    }
   ],
   "source": [
    "from db import *\n",
    "jdata = load_json_from_file(\"json_rewrites_converted.json\")\n",
    "add_or_update_json_template_in_db(project_name=\"rewrite-scoring\", file_id=\"old-dataset\", json_data=jdata, overwrite=False)"
   ]
  }
 ],
 "metadata": {
  "kernelspec": {
   "display_name": "Python 3",
   "language": "python",
   "name": "python3"
  },
  "language_info": {
   "codemirror_mode": {
    "name": "ipython",
    "version": 3
   },
   "file_extension": ".py",
   "mimetype": "text/x-python",
   "name": "python",
   "nbconvert_exporter": "python",
   "pygments_lexer": "ipython3",
   "version": "3.12.4"
  }
 },
 "nbformat": 4,
 "nbformat_minor": 2
}
